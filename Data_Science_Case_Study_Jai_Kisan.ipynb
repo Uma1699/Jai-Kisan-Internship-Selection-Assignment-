{
 "cells": [
  {
   "cell_type": "markdown",
   "metadata": {},
   "source": [
    "<h1>Data Science Internship | Jai Kisan Case Study</h1>\n",
    "\n",
    "Name: Uma T V\n",
    "\n",
    "Email: uma.tv1699@gmail.com\n",
    "\n",
    "Roll No: ME17B170\n",
    "\n",
    "Institute: Indian Institute of Technology Madras"
   ]
  },
  {
   "cell_type": "code",
   "execution_count": 1,
   "metadata": {},
   "outputs": [],
   "source": [
    "# setup: import all required libraries\n",
    "\n",
    "import pandas as pd\n",
    "import numpy as np\n",
    "from sklearn.model_selection import train_test_split\n",
    "from sklearn.svm import SVC  \n",
    "from sklearn.metrics import classification_report, confusion_matrix  \n",
    "from sklearn.ensemble import RandomForestClassifier\n",
    "from sklearn.preprocessing import StandardScaler\n",
    "import sklearn \n",
    "import statsmodels.api as sm\n",
    "from sklearn.cluster import k_means\n",
    "import warnings\n",
    "warnings.filterwarnings('ignore')\n",
    "import matplotlib.pyplot as plt\n",
    "import seaborn as sns\n",
    "from sklearn.preprocessing import StandardScaler\n",
    "from sklearn.decomposition import PCA\n",
    "from sklearn.decomposition import IncrementalPCA\n",
    "from sklearn.svm import SVC\n",
    "from sklearn.model_selection import KFold\n",
    "from sklearn.model_selection import GridSearchCV\n",
    "from sklearn.pipeline import Pipeline\n",
    "from sklearn.metrics import accuracy_score\n",
    "from sklearn.linear_model import LogisticRegression\n",
    "from sklearn.metrics import accuracy_score\n",
    "from sklearn.model_selection import cross_val_score\n",
    "from sklearn.tree import DecisionTreeClassifier\n",
    "from sklearn.neighbors import KNeighborsClassifier\n",
    "from sklearn.discriminant_analysis import LinearDiscriminantAnalysis\n",
    "from sklearn.naive_bayes import GaussianNB\n",
    "from sklearn.neural_network import MLPClassifier\n",
    "from sklearn.gaussian_process import GaussianProcessClassifier\n",
    "from sklearn.gaussian_process.kernels import RBF\n",
    "from sklearn.ensemble import AdaBoostClassifier\n",
    "from sklearn.datasets import make_classification\n",
    "from sklearn.discriminant_analysis import QuadraticDiscriminantAnalysis\n",
    "from sklearn.svm import SVC\n",
    "from sklearn.ensemble import BaggingClassifier\n",
    "from sklearn.datasets import make_classification\n",
    "from sklearn.datasets import make_hastie_10_2\n",
    "from sklearn.ensemble import GradientBoostingClassifier\n",
    "from xgboost import XGBClassifier"
   ]
  },
  {
   "cell_type": "markdown",
   "metadata": {},
   "source": [
    "<h3>Data Loading and Visualization</h3>"
   ]
  },
  {
   "cell_type": "code",
   "execution_count": 2,
   "metadata": {},
   "outputs": [],
   "source": [
    "#load the datasets\n",
    "\n",
    "baselines = pd.read_csv(\"baselines.csv\")\n",
    "lab_and_vitals = pd.read_csv(\"lab and vitals.csv\")"
   ]
  },
  {
   "cell_type": "code",
   "execution_count": 3,
   "metadata": {},
   "outputs": [
    {
     "data": {
      "text/html": [
       "<div>\n",
       "<style scoped>\n",
       "    .dataframe tbody tr th:only-of-type {\n",
       "        vertical-align: middle;\n",
       "    }\n",
       "\n",
       "    .dataframe tbody tr th {\n",
       "        vertical-align: top;\n",
       "    }\n",
       "\n",
       "    .dataframe thead th {\n",
       "        text-align: right;\n",
       "    }\n",
       "</style>\n",
       "<table border=\"1\" class=\"dataframe\">\n",
       "  <thead>\n",
       "    <tr style=\"text-align: right;\">\n",
       "      <th></th>\n",
       "      <th>mrn</th>\n",
       "      <th>Age</th>\n",
       "      <th>sex.factor</th>\n",
       "      <th>bmi</th>\n",
       "      <th>hypoxia_ed.factor</th>\n",
       "      <th>smoke_vape</th>\n",
       "      <th>dm.factor</th>\n",
       "      <th>htn.factor</th>\n",
       "      <th>pulm___1.factor</th>\n",
       "      <th>renal___1.factor</th>\n",
       "      <th>...</th>\n",
       "      <th>symptoms___9.factor</th>\n",
       "      <th>symptoms___8.factor</th>\n",
       "      <th>symptoms___3.factor</th>\n",
       "      <th>first_cxr_results___0.factor</th>\n",
       "      <th>first_cxr_results___1.factor</th>\n",
       "      <th>first_cxr_results___2.factor</th>\n",
       "      <th>first_cxr_results___3.factor</th>\n",
       "      <th>duration_symptoms</th>\n",
       "      <th>Ed_before_order_set</th>\n",
       "      <th>event</th>\n",
       "    </tr>\n",
       "  </thead>\n",
       "  <tbody>\n",
       "    <tr>\n",
       "      <th>0</th>\n",
       "      <td>655528</td>\n",
       "      <td>62.321679</td>\n",
       "      <td>Male</td>\n",
       "      <td>20.388645</td>\n",
       "      <td>No</td>\n",
       "      <td>No</td>\n",
       "      <td>No</td>\n",
       "      <td>Yes</td>\n",
       "      <td>Unchecked</td>\n",
       "      <td>Unchecked</td>\n",
       "      <td>...</td>\n",
       "      <td>Unchecked</td>\n",
       "      <td>Unchecked</td>\n",
       "      <td>Checked</td>\n",
       "      <td>Unchecked</td>\n",
       "      <td>Unchecked</td>\n",
       "      <td>Checked</td>\n",
       "      <td>Unchecked</td>\n",
       "      <td>8</td>\n",
       "      <td>No</td>\n",
       "      <td>Yes</td>\n",
       "    </tr>\n",
       "    <tr>\n",
       "      <th>1</th>\n",
       "      <td>729545</td>\n",
       "      <td>78.625586</td>\n",
       "      <td>Female</td>\n",
       "      <td>27.554594</td>\n",
       "      <td>Yes</td>\n",
       "      <td>No</td>\n",
       "      <td>Yes</td>\n",
       "      <td>Yes</td>\n",
       "      <td>Unchecked</td>\n",
       "      <td>Unchecked</td>\n",
       "      <td>...</td>\n",
       "      <td>Checked</td>\n",
       "      <td>Unchecked</td>\n",
       "      <td>Checked</td>\n",
       "      <td>Unchecked</td>\n",
       "      <td>Unchecked</td>\n",
       "      <td>Checked</td>\n",
       "      <td>Unchecked</td>\n",
       "      <td>20</td>\n",
       "      <td>Yes</td>\n",
       "      <td>Yes</td>\n",
       "    </tr>\n",
       "    <tr>\n",
       "      <th>2</th>\n",
       "      <td>805568</td>\n",
       "      <td>70.460677</td>\n",
       "      <td>Female</td>\n",
       "      <td>34.141729</td>\n",
       "      <td>Yes</td>\n",
       "      <td>No</td>\n",
       "      <td>Yes</td>\n",
       "      <td>Yes</td>\n",
       "      <td>Unchecked</td>\n",
       "      <td>Unchecked</td>\n",
       "      <td>...</td>\n",
       "      <td>Unchecked</td>\n",
       "      <td>Unchecked</td>\n",
       "      <td>Unchecked</td>\n",
       "      <td>Unchecked</td>\n",
       "      <td>Unchecked</td>\n",
       "      <td>Checked</td>\n",
       "      <td>Unchecked</td>\n",
       "      <td>9</td>\n",
       "      <td>No</td>\n",
       "      <td>No</td>\n",
       "    </tr>\n",
       "    <tr>\n",
       "      <th>3</th>\n",
       "      <td>895876</td>\n",
       "      <td>59.043149</td>\n",
       "      <td>Male</td>\n",
       "      <td>19.833296</td>\n",
       "      <td>Yes</td>\n",
       "      <td>Yes</td>\n",
       "      <td>Yes</td>\n",
       "      <td>No</td>\n",
       "      <td>Unchecked</td>\n",
       "      <td>Unchecked</td>\n",
       "      <td>...</td>\n",
       "      <td>Unchecked</td>\n",
       "      <td>Unchecked</td>\n",
       "      <td>Unchecked</td>\n",
       "      <td>Unchecked</td>\n",
       "      <td>Checked</td>\n",
       "      <td>Unchecked</td>\n",
       "      <td>Unchecked</td>\n",
       "      <td>7</td>\n",
       "      <td>No</td>\n",
       "      <td>No</td>\n",
       "    </tr>\n",
       "    <tr>\n",
       "      <th>4</th>\n",
       "      <td>905164</td>\n",
       "      <td>90.477229</td>\n",
       "      <td>Male</td>\n",
       "      <td>19.858003</td>\n",
       "      <td>No</td>\n",
       "      <td>No</td>\n",
       "      <td>Yes</td>\n",
       "      <td>Yes</td>\n",
       "      <td>Unchecked</td>\n",
       "      <td>Unchecked</td>\n",
       "      <td>...</td>\n",
       "      <td>Unchecked</td>\n",
       "      <td>Unchecked</td>\n",
       "      <td>Checked</td>\n",
       "      <td>Unchecked</td>\n",
       "      <td>Unchecked</td>\n",
       "      <td>Checked</td>\n",
       "      <td>Unchecked</td>\n",
       "      <td>25</td>\n",
       "      <td>Yes</td>\n",
       "      <td>No</td>\n",
       "    </tr>\n",
       "    <tr>\n",
       "      <th>5</th>\n",
       "      <td>934820</td>\n",
       "      <td>70.614480</td>\n",
       "      <td>Female</td>\n",
       "      <td>28.132920</td>\n",
       "      <td>Yes</td>\n",
       "      <td>Yes</td>\n",
       "      <td>Yes</td>\n",
       "      <td>No</td>\n",
       "      <td>Unchecked</td>\n",
       "      <td>Unchecked</td>\n",
       "      <td>...</td>\n",
       "      <td>Unchecked</td>\n",
       "      <td>Unchecked</td>\n",
       "      <td>Checked</td>\n",
       "      <td>Unchecked</td>\n",
       "      <td>Unchecked</td>\n",
       "      <td>Unchecked</td>\n",
       "      <td>Unchecked</td>\n",
       "      <td>6</td>\n",
       "      <td>Yes</td>\n",
       "      <td>Yes</td>\n",
       "    </tr>\n",
       "    <tr>\n",
       "      <th>6</th>\n",
       "      <td>974919</td>\n",
       "      <td>72.287110</td>\n",
       "      <td>Male</td>\n",
       "      <td>34.979119</td>\n",
       "      <td>No</td>\n",
       "      <td>No</td>\n",
       "      <td>No</td>\n",
       "      <td>No</td>\n",
       "      <td>Unchecked</td>\n",
       "      <td>Unchecked</td>\n",
       "      <td>...</td>\n",
       "      <td>Unchecked</td>\n",
       "      <td>Checked</td>\n",
       "      <td>Checked</td>\n",
       "      <td>Unchecked</td>\n",
       "      <td>Checked</td>\n",
       "      <td>Checked</td>\n",
       "      <td>Unchecked</td>\n",
       "      <td>7</td>\n",
       "      <td>Yes</td>\n",
       "      <td>No</td>\n",
       "    </tr>\n",
       "    <tr>\n",
       "      <th>7</th>\n",
       "      <td>989454</td>\n",
       "      <td>47.817602</td>\n",
       "      <td>Female</td>\n",
       "      <td>26.842840</td>\n",
       "      <td>Yes</td>\n",
       "      <td>No</td>\n",
       "      <td>No</td>\n",
       "      <td>Yes</td>\n",
       "      <td>Unchecked</td>\n",
       "      <td>Unchecked</td>\n",
       "      <td>...</td>\n",
       "      <td>Unchecked</td>\n",
       "      <td>Unchecked</td>\n",
       "      <td>Checked</td>\n",
       "      <td>Unchecked</td>\n",
       "      <td>Unchecked</td>\n",
       "      <td>Checked</td>\n",
       "      <td>Unchecked</td>\n",
       "      <td>9</td>\n",
       "      <td>No</td>\n",
       "      <td>Yes</td>\n",
       "    </tr>\n",
       "    <tr>\n",
       "      <th>8</th>\n",
       "      <td>1030915</td>\n",
       "      <td>62.987040</td>\n",
       "      <td>Male</td>\n",
       "      <td>33.686343</td>\n",
       "      <td>Yes</td>\n",
       "      <td>No</td>\n",
       "      <td>No</td>\n",
       "      <td>No</td>\n",
       "      <td>Unchecked</td>\n",
       "      <td>Unchecked</td>\n",
       "      <td>...</td>\n",
       "      <td>Unchecked</td>\n",
       "      <td>Unchecked</td>\n",
       "      <td>Unchecked</td>\n",
       "      <td>Unchecked</td>\n",
       "      <td>Unchecked</td>\n",
       "      <td>Checked</td>\n",
       "      <td>Unchecked</td>\n",
       "      <td>13</td>\n",
       "      <td>No</td>\n",
       "      <td>No</td>\n",
       "    </tr>\n",
       "    <tr>\n",
       "      <th>9</th>\n",
       "      <td>1044125</td>\n",
       "      <td>76.243595</td>\n",
       "      <td>Male</td>\n",
       "      <td>21.458219</td>\n",
       "      <td>No</td>\n",
       "      <td>No</td>\n",
       "      <td>No</td>\n",
       "      <td>Yes</td>\n",
       "      <td>Unchecked</td>\n",
       "      <td>Unchecked</td>\n",
       "      <td>...</td>\n",
       "      <td>Unchecked</td>\n",
       "      <td>Checked</td>\n",
       "      <td>Checked</td>\n",
       "      <td>Unchecked</td>\n",
       "      <td>Unchecked</td>\n",
       "      <td>Checked</td>\n",
       "      <td>Unchecked</td>\n",
       "      <td>8</td>\n",
       "      <td>Yes</td>\n",
       "      <td>No</td>\n",
       "    </tr>\n",
       "  </tbody>\n",
       "</table>\n",
       "<p>10 rows × 27 columns</p>\n",
       "</div>"
      ],
      "text/plain": [
       "       mrn        Age sex.factor        bmi hypoxia_ed.factor smoke_vape  \\\n",
       "0   655528  62.321679       Male  20.388645                No         No   \n",
       "1   729545  78.625586     Female  27.554594               Yes         No   \n",
       "2   805568  70.460677     Female  34.141729               Yes         No   \n",
       "3   895876  59.043149       Male  19.833296               Yes        Yes   \n",
       "4   905164  90.477229       Male  19.858003                No         No   \n",
       "5   934820  70.614480     Female  28.132920               Yes        Yes   \n",
       "6   974919  72.287110       Male  34.979119                No         No   \n",
       "7   989454  47.817602     Female  26.842840               Yes         No   \n",
       "8  1030915  62.987040       Male  33.686343               Yes         No   \n",
       "9  1044125  76.243595       Male  21.458219                No         No   \n",
       "\n",
       "  dm.factor htn.factor pulm___1.factor renal___1.factor  ...  \\\n",
       "0        No        Yes       Unchecked        Unchecked  ...   \n",
       "1       Yes        Yes       Unchecked        Unchecked  ...   \n",
       "2       Yes        Yes       Unchecked        Unchecked  ...   \n",
       "3       Yes         No       Unchecked        Unchecked  ...   \n",
       "4       Yes        Yes       Unchecked        Unchecked  ...   \n",
       "5       Yes         No       Unchecked        Unchecked  ...   \n",
       "6        No         No       Unchecked        Unchecked  ...   \n",
       "7        No        Yes       Unchecked        Unchecked  ...   \n",
       "8        No         No       Unchecked        Unchecked  ...   \n",
       "9        No        Yes       Unchecked        Unchecked  ...   \n",
       "\n",
       "  symptoms___9.factor symptoms___8.factor symptoms___3.factor  \\\n",
       "0           Unchecked           Unchecked             Checked   \n",
       "1             Checked           Unchecked             Checked   \n",
       "2           Unchecked           Unchecked           Unchecked   \n",
       "3           Unchecked           Unchecked           Unchecked   \n",
       "4           Unchecked           Unchecked             Checked   \n",
       "5           Unchecked           Unchecked             Checked   \n",
       "6           Unchecked             Checked             Checked   \n",
       "7           Unchecked           Unchecked             Checked   \n",
       "8           Unchecked           Unchecked           Unchecked   \n",
       "9           Unchecked             Checked             Checked   \n",
       "\n",
       "  first_cxr_results___0.factor first_cxr_results___1.factor  \\\n",
       "0                    Unchecked                    Unchecked   \n",
       "1                    Unchecked                    Unchecked   \n",
       "2                    Unchecked                    Unchecked   \n",
       "3                    Unchecked                      Checked   \n",
       "4                    Unchecked                    Unchecked   \n",
       "5                    Unchecked                    Unchecked   \n",
       "6                    Unchecked                      Checked   \n",
       "7                    Unchecked                    Unchecked   \n",
       "8                    Unchecked                    Unchecked   \n",
       "9                    Unchecked                    Unchecked   \n",
       "\n",
       "  first_cxr_results___2.factor first_cxr_results___3.factor duration_symptoms  \\\n",
       "0                      Checked                    Unchecked                 8   \n",
       "1                      Checked                    Unchecked                20   \n",
       "2                      Checked                    Unchecked                 9   \n",
       "3                    Unchecked                    Unchecked                 7   \n",
       "4                      Checked                    Unchecked                25   \n",
       "5                    Unchecked                    Unchecked                 6   \n",
       "6                      Checked                    Unchecked                 7   \n",
       "7                      Checked                    Unchecked                 9   \n",
       "8                      Checked                    Unchecked                13   \n",
       "9                      Checked                    Unchecked                 8   \n",
       "\n",
       "  Ed_before_order_set event  \n",
       "0                  No   Yes  \n",
       "1                 Yes   Yes  \n",
       "2                  No    No  \n",
       "3                  No    No  \n",
       "4                 Yes    No  \n",
       "5                 Yes   Yes  \n",
       "6                 Yes    No  \n",
       "7                  No   Yes  \n",
       "8                  No    No  \n",
       "9                 Yes    No  \n",
       "\n",
       "[10 rows x 27 columns]"
      ]
     },
     "execution_count": 3,
     "metadata": {},
     "output_type": "execute_result"
    }
   ],
   "source": [
    "#visualize the data\n",
    "\n",
    "baselines.head(10)"
   ]
  },
  {
   "cell_type": "code",
   "execution_count": 4,
   "metadata": {},
   "outputs": [
    {
     "data": {
      "text/html": [
       "<div>\n",
       "<style scoped>\n",
       "    .dataframe tbody tr th:only-of-type {\n",
       "        vertical-align: middle;\n",
       "    }\n",
       "\n",
       "    .dataframe tbody tr th {\n",
       "        vertical-align: top;\n",
       "    }\n",
       "\n",
       "    .dataframe thead th {\n",
       "        text-align: right;\n",
       "    }\n",
       "</style>\n",
       "<table border=\"1\" class=\"dataframe\">\n",
       "  <thead>\n",
       "    <tr style=\"text-align: right;\">\n",
       "      <th></th>\n",
       "      <th>name</th>\n",
       "      <th>subject</th>\n",
       "      <th>value</th>\n",
       "      <th>time_stamp</th>\n",
       "    </tr>\n",
       "  </thead>\n",
       "  <tbody>\n",
       "    <tr>\n",
       "      <th>0</th>\n",
       "      <td>s_bp_noninvasive (d)</td>\n",
       "      <td>89909248</td>\n",
       "      <td>NaN</td>\n",
       "      <td>2020-07-08T13:08:29Z</td>\n",
       "    </tr>\n",
       "    <tr>\n",
       "      <th>1</th>\n",
       "      <td>s_bp_noninvasive (d)</td>\n",
       "      <td>89909248</td>\n",
       "      <td>NaN</td>\n",
       "      <td>2020-07-08T15:53:04Z</td>\n",
       "    </tr>\n",
       "    <tr>\n",
       "      <th>2</th>\n",
       "      <td>s_bp_noninvasive (d)</td>\n",
       "      <td>89909248</td>\n",
       "      <td>NaN</td>\n",
       "      <td>2020-07-08T18:37:38Z</td>\n",
       "    </tr>\n",
       "    <tr>\n",
       "      <th>3</th>\n",
       "      <td>s_bp_noninvasive (d)</td>\n",
       "      <td>89909248</td>\n",
       "      <td>NaN</td>\n",
       "      <td>2020-07-08T21:22:12Z</td>\n",
       "    </tr>\n",
       "    <tr>\n",
       "      <th>4</th>\n",
       "      <td>s_bp_noninvasive (d)</td>\n",
       "      <td>89909248</td>\n",
       "      <td>62.435513</td>\n",
       "      <td>2020-07-09T00:06:47Z</td>\n",
       "    </tr>\n",
       "    <tr>\n",
       "      <th>5</th>\n",
       "      <td>s_bp_noninvasive (d)</td>\n",
       "      <td>89909248</td>\n",
       "      <td>NaN</td>\n",
       "      <td>2020-07-09T02:51:21Z</td>\n",
       "    </tr>\n",
       "    <tr>\n",
       "      <th>6</th>\n",
       "      <td>s_bp_noninvasive (d)</td>\n",
       "      <td>89909248</td>\n",
       "      <td>NaN</td>\n",
       "      <td>2020-07-09T05:35:55Z</td>\n",
       "    </tr>\n",
       "    <tr>\n",
       "      <th>7</th>\n",
       "      <td>s_bp_noninvasive (d)</td>\n",
       "      <td>89909248</td>\n",
       "      <td>NaN</td>\n",
       "      <td>2020-07-09T08:20:29Z</td>\n",
       "    </tr>\n",
       "    <tr>\n",
       "      <th>8</th>\n",
       "      <td>s_bp_noninvasive (d)</td>\n",
       "      <td>89909248</td>\n",
       "      <td>59.183847</td>\n",
       "      <td>2020-07-09T11:05:04Z</td>\n",
       "    </tr>\n",
       "    <tr>\n",
       "      <th>9</th>\n",
       "      <td>s_bp_noninvasive (d)</td>\n",
       "      <td>89909248</td>\n",
       "      <td>61.897375</td>\n",
       "      <td>2020-07-09T13:49:38Z</td>\n",
       "    </tr>\n",
       "  </tbody>\n",
       "</table>\n",
       "</div>"
      ],
      "text/plain": [
       "                   name   subject      value            time_stamp\n",
       "0  s_bp_noninvasive (d)  89909248        NaN  2020-07-08T13:08:29Z\n",
       "1  s_bp_noninvasive (d)  89909248        NaN  2020-07-08T15:53:04Z\n",
       "2  s_bp_noninvasive (d)  89909248        NaN  2020-07-08T18:37:38Z\n",
       "3  s_bp_noninvasive (d)  89909248        NaN  2020-07-08T21:22:12Z\n",
       "4  s_bp_noninvasive (d)  89909248  62.435513  2020-07-09T00:06:47Z\n",
       "5  s_bp_noninvasive (d)  89909248        NaN  2020-07-09T02:51:21Z\n",
       "6  s_bp_noninvasive (d)  89909248        NaN  2020-07-09T05:35:55Z\n",
       "7  s_bp_noninvasive (d)  89909248        NaN  2020-07-09T08:20:29Z\n",
       "8  s_bp_noninvasive (d)  89909248  59.183847  2020-07-09T11:05:04Z\n",
       "9  s_bp_noninvasive (d)  89909248  61.897375  2020-07-09T13:49:38Z"
      ]
     },
     "execution_count": 4,
     "metadata": {},
     "output_type": "execute_result"
    }
   ],
   "source": [
    "lab_and_vitals.head(10)"
   ]
  },
  {
   "cell_type": "markdown",
   "metadata": {},
   "source": [
    "<h3>Handling Missing Values and Merging Dataframes</h3>"
   ]
  },
  {
   "cell_type": "code",
   "execution_count": 5,
   "metadata": {},
   "outputs": [],
   "source": [
    "#count the number of missing values in every column of the datasets\n",
    "\n",
    "missing_values_lab = lab_and_vitals.isnull().sum()"
   ]
  },
  {
   "cell_type": "code",
   "execution_count": 6,
   "metadata": {},
   "outputs": [
    {
     "data": {
      "text/plain": [
       "name              0\n",
       "subject           0\n",
       "value         85815\n",
       "time_stamp        0\n",
       "dtype: int64"
      ]
     },
     "execution_count": 6,
     "metadata": {},
     "output_type": "execute_result"
    }
   ],
   "source": [
    "missing_values_lab"
   ]
  },
  {
   "cell_type": "code",
   "execution_count": 7,
   "metadata": {},
   "outputs": [
    {
     "data": {
      "text/plain": [
       "708106"
      ]
     },
     "execution_count": 7,
     "metadata": {},
     "output_type": "execute_result"
    }
   ],
   "source": [
    "len(lab_and_vitals)"
   ]
  },
  {
   "cell_type": "markdown",
   "metadata": {},
   "source": [
    "<p style=\"color:blue\">Only the column \"value\" has missing information in lab_and_vitals dataframe. Also, without value the entire row of the lab_and_vitals dataframe is not of any use. Hence, we will now revove all the rows of the lab_and_vitals dataframe with missing value of the column \"values\".</p>\n",
    "\n",
    "\n"
   ]
  },
  {
   "cell_type": "code",
   "execution_count": 8,
   "metadata": {},
   "outputs": [],
   "source": [
    "#remove all rows with missing \"value\"\n",
    "\n",
    "lab_and_vitals=lab_and_vitals.dropna()"
   ]
  },
  {
   "cell_type": "markdown",
   "metadata": {},
   "source": [
    "<p style=\"color:blue\">We are only interested in the lab_and_vitals values of the medical record numbers (mrn) in the baselines dataframe. Hence, we remove those subjects from lab_and_vitals that aren't present in baselines</p>"
   ]
  },
  {
   "cell_type": "code",
   "execution_count": 9,
   "metadata": {},
   "outputs": [],
   "source": [
    "#extract the indices of the rows to be removed in lab_and_vitals\n",
    "\n",
    "indices=lab_and_vitals.index\n",
    "to_be_removed_indices=[]\n",
    "for index in indices:\n",
    "    if lab_and_vitals[\"subject\"][index] not in baselines[\"mrn\"].unique():\n",
    "        to_be_removed_indices.append(index)        "
   ]
  },
  {
   "cell_type": "code",
   "execution_count": 10,
   "metadata": {},
   "outputs": [
    {
     "data": {
      "text/plain": [
       "61540"
      ]
     },
     "execution_count": 10,
     "metadata": {},
     "output_type": "execute_result"
    }
   ],
   "source": [
    "len(to_be_removed_indices)"
   ]
  },
  {
   "cell_type": "code",
   "execution_count": 11,
   "metadata": {},
   "outputs": [],
   "source": [
    "#remove unwanted rows \n",
    "\n",
    "lab_and_vitals=lab_and_vitals.drop(to_be_removed_indices)"
   ]
  },
  {
   "cell_type": "markdown",
   "metadata": {},
   "source": [
    "<p style=\"color:blue\">To deal multiple values of the same test for the same person at different timestamps, we take the mean of the values</p>"
   ]
  },
  {
   "cell_type": "code",
   "execution_count": 12,
   "metadata": {},
   "outputs": [],
   "source": [
    "lab_and_vitals_mean=lab_and_vitals.groupby(by=[\"subject\",\"name\"]).mean()"
   ]
  },
  {
   "cell_type": "code",
   "execution_count": 13,
   "metadata": {},
   "outputs": [
    {
     "data": {
      "text/html": [
       "<div>\n",
       "<style scoped>\n",
       "    .dataframe tbody tr th:only-of-type {\n",
       "        vertical-align: middle;\n",
       "    }\n",
       "\n",
       "    .dataframe tbody tr th {\n",
       "        vertical-align: top;\n",
       "    }\n",
       "\n",
       "    .dataframe thead th {\n",
       "        text-align: right;\n",
       "    }\n",
       "</style>\n",
       "<table border=\"1\" class=\"dataframe\">\n",
       "  <thead>\n",
       "    <tr style=\"text-align: right;\">\n",
       "      <th></th>\n",
       "      <th></th>\n",
       "      <th>value</th>\n",
       "    </tr>\n",
       "    <tr>\n",
       "      <th>subject</th>\n",
       "      <th>name</th>\n",
       "      <th></th>\n",
       "    </tr>\n",
       "  </thead>\n",
       "  <tbody>\n",
       "    <tr>\n",
       "      <th rowspan=\"5\" valign=\"top\">655528</th>\n",
       "      <th>s_bp_noninvasive (d)</th>\n",
       "      <td>61.162459</td>\n",
       "    </tr>\n",
       "    <tr>\n",
       "      <th>vs_bp_noninvasive (s)</th>\n",
       "      <td>129.902067</td>\n",
       "    </tr>\n",
       "    <tr>\n",
       "      <th>vs_hr_hr</th>\n",
       "      <td>72.801656</td>\n",
       "    </tr>\n",
       "    <tr>\n",
       "      <th>xp_resp_rate_pt</th>\n",
       "      <td>30.400445</td>\n",
       "    </tr>\n",
       "    <tr>\n",
       "      <th>xp_resp_spo2</th>\n",
       "      <td>91.445496</td>\n",
       "    </tr>\n",
       "    <tr>\n",
       "      <th>...</th>\n",
       "      <th>...</th>\n",
       "      <td>...</td>\n",
       "    </tr>\n",
       "    <tr>\n",
       "      <th rowspan=\"5\" valign=\"top\">90289960</th>\n",
       "      <th>s_bp_noninvasive (d)</th>\n",
       "      <td>61.267579</td>\n",
       "    </tr>\n",
       "    <tr>\n",
       "      <th>vs_bp_noninvasive (s)</th>\n",
       "      <td>130.142080</td>\n",
       "    </tr>\n",
       "    <tr>\n",
       "      <th>vs_hr_hr</th>\n",
       "      <td>75.010405</td>\n",
       "    </tr>\n",
       "    <tr>\n",
       "      <th>xp_resp_rate_pt</th>\n",
       "      <td>30.456829</td>\n",
       "    </tr>\n",
       "    <tr>\n",
       "      <th>xp_resp_spo2</th>\n",
       "      <td>89.991002</td>\n",
       "    </tr>\n",
       "  </tbody>\n",
       "</table>\n",
       "<p>6725 rows × 1 columns</p>\n",
       "</div>"
      ],
      "text/plain": [
       "                                     value\n",
       "subject  name                             \n",
       "655528   s_bp_noninvasive (d)    61.162459\n",
       "         vs_bp_noninvasive (s)  129.902067\n",
       "         vs_hr_hr                72.801656\n",
       "         xp_resp_rate_pt         30.400445\n",
       "         xp_resp_spo2            91.445496\n",
       "...                                    ...\n",
       "90289960 s_bp_noninvasive (d)    61.267579\n",
       "         vs_bp_noninvasive (s)  130.142080\n",
       "         vs_hr_hr                75.010405\n",
       "         xp_resp_rate_pt         30.456829\n",
       "         xp_resp_spo2            89.991002\n",
       "\n",
       "[6725 rows x 1 columns]"
      ]
     },
     "execution_count": 13,
     "metadata": {},
     "output_type": "execute_result"
    }
   ],
   "source": [
    "lab_and_vitals_mean"
   ]
  },
  {
   "cell_type": "code",
   "execution_count": 14,
   "metadata": {},
   "outputs": [
    {
     "data": {
      "text/plain": [
       "array(['s_bp_noninvasive (d)', 'vs_bp_noninvasive (s)', 'vs_hr_hr',\n",
       "       'xp_resp_rate_pt', 'xp_resp_spo2'], dtype=object)"
      ]
     },
     "execution_count": 14,
     "metadata": {},
     "output_type": "execute_result"
    }
   ],
   "source": [
    "# we check the different lab tests done for the subjects\n",
    "\n",
    "lab_and_vitals.name.unique()"
   ]
  },
  {
   "cell_type": "markdown",
   "metadata": {},
   "source": [
    "<p style=\"color:blue\">We now add these 5 tests, whose values are given in the dataframe lab_and_vitals, as columns in baselines. Then, we merge the two dataframes by feeding the information of the lab_and_vitals tests for individuals in baselines dataframe.</p>"
   ]
  },
  {
   "cell_type": "code",
   "execution_count": 15,
   "metadata": {},
   "outputs": [],
   "source": [
    "#add columns of lab and vitals test names in baselines\n",
    "\n",
    "NaN = np.nan\n",
    "for name in lab_and_vitals.name.unique():\n",
    "    baselines[name] = NaN"
   ]
  },
  {
   "cell_type": "code",
   "execution_count": 16,
   "metadata": {},
   "outputs": [],
   "source": [
    "#update values of the lab test columns in baselines to the mean values of tests as given in lab_and_vitals_mean\n",
    "\n",
    "for indices in lab_and_vitals_mean.index:\n",
    "    baselines[indices[1]][baselines.loc[baselines[\"mrn\"]==indices[0]].index[0]]=lab_and_vitals_mean.loc[indices]       "
   ]
  },
  {
   "cell_type": "code",
   "execution_count": 17,
   "metadata": {},
   "outputs": [
    {
     "data": {
      "text/plain": [
       "mrn                             0\n",
       "Age                             0\n",
       "sex.factor                      0\n",
       "bmi                             0\n",
       "hypoxia_ed.factor               0\n",
       "smoke_vape                      0\n",
       "dm.factor                       0\n",
       "htn.factor                      0\n",
       "pulm___1.factor                 0\n",
       "renal___1.factor                0\n",
       "renal___2.factor                0\n",
       "cad.factor                      0\n",
       "cancer                          0\n",
       "any_immunosuppression           0\n",
       "symptoms___1.factor             0\n",
       "symptoms___2.factor             0\n",
       "symptoms___10.factor            0\n",
       "symptoms___9.factor             0\n",
       "symptoms___8.factor             0\n",
       "symptoms___3.factor             0\n",
       "first_cxr_results___0.factor    0\n",
       "first_cxr_results___1.factor    0\n",
       "first_cxr_results___2.factor    0\n",
       "first_cxr_results___3.factor    0\n",
       "duration_symptoms               0\n",
       "Ed_before_order_set             0\n",
       "event                           0\n",
       "s_bp_noninvasive (d)            0\n",
       "vs_bp_noninvasive (s)           0\n",
       "vs_hr_hr                        0\n",
       "xp_resp_rate_pt                 0\n",
       "xp_resp_spo2                    0\n",
       "dtype: int64"
      ]
     },
     "execution_count": 17,
     "metadata": {},
     "output_type": "execute_result"
    }
   ],
   "source": [
    "#check if there are any missing values in baselines\n",
    "\n",
    "missing_count_values = baselines.isnull().sum()\n",
    "missing_count_values"
   ]
  },
  {
   "cell_type": "markdown",
   "metadata": {},
   "source": [
    "<p style=\"color:blue\">There arent any missing values now in baselines</p>\n"
   ]
  },
  {
   "cell_type": "code",
   "execution_count": 18,
   "metadata": {},
   "outputs": [],
   "source": [
    "#split baselines into features (baselines_X) and labels (baselines_y)\n",
    "\n",
    "baselines_X=baselines.drop(columns=[\"event\"])\n",
    "baselines_y=baselines[\"event\"]"
   ]
  },
  {
   "cell_type": "markdown",
   "metadata": {},
   "source": [
    "<h3>Feature Visualization</h3>"
   ]
  },
  {
   "cell_type": "markdown",
   "metadata": {},
   "source": [
    "<p style=\"color:blue\">We now visualize the Categorical Features in Baselines</p>\n"
   ]
  },
  {
   "cell_type": "code",
   "execution_count": 19,
   "metadata": {},
   "outputs": [
    {
     "data": {
      "image/png": "[encoded data removed]",
      "text/plain": [
       "<Figure size 576x36 with 1 Axes>"
      ]
     },
     "metadata": {
      "needs_background": "light"
     },
     "output_type": "display_data"
    },
    {
     "data": {
      "image/png": "[encoded data removed]",
      "text/plain": [
       "<Figure size 576x36 with 1 Axes>"
      ]
     },
     "metadata": {
      "needs_background": "light"
     },
     "output_type": "display_data"
    },
    {
     "data": {
      "image/png": "[encoded data removed]",
      "text/plain": [
       "<Figure size 576x36 with 1 Axes>"
      ]
     },
     "metadata": {
      "needs_background": "light"
     },
     "output_type": "display_data"
    },
    {
     "data": {
      "image/png": "[encoded data removed]",
      "text/plain": [
       "<Figure size 576x36 with 1 Axes>"
      ]
     },
     "metadata": {
      "needs_background": "light"
     },
     "output_type": "display_data"
    },
    {
     "data": {
      "image/png": "[encoded data removed]",
      "text/plain": [
       "<Figure size 576x36 with 1 Axes>"
      ]
     },
     "metadata": {
      "needs_background": "light"
     },
     "output_type": "display_data"
    },
    {
     "data": {
      "image/png": "[encoded data removed]",
      "text/plain": [
       "<Figure size 576x36 with 1 Axes>"
      ]
     },
     "metadata": {
      "needs_background": "light"
     },
     "output_type": "display_data"
    },
    {
     "data": {
      "image/png": "[encoded data removed]",
      "text/plain": [
       "<Figure size 576x36 with 1 Axes>"
      ]
     },
     "metadata": {
      "needs_background": "light"
     },
     "output_type": "display_data"
    },
    {
     "data": {
      "image/png": "[encoded data removed]",
      "text/plain": [
       "<Figure size 576x36 with 1 Axes>"
      ]
     },
     "metadata": {
      "needs_background": "light"
     },
     "output_type": "display_data"
    },
    {
     "data": {
      "image/png": "[encoded data removed]",
      "text/plain": [
       "<Figure size 576x36 with 1 Axes>"
      ]
     },
     "metadata": {
      "needs_background": "light"
     },
     "output_type": "display_data"
    },
    {
     "data": {
      "image/png": "[encoded data removed]",
      "text/plain": [
       "<Figure size 576x36 with 1 Axes>"
      ]
     },
     "metadata": {
      "needs_background": "light"
     },
     "output_type": "display_data"
    },
    {
     "data": {
      "image/png": "[encoded data removed]",
      "text/plain": [
       "<Figure size 576x36 with 1 Axes>"
      ]
     },
     "metadata": {
      "needs_background": "light"
     },
     "output_type": "display_data"
    },
    {
     "data": {
      "image/png": "[encoded data removed]",
      "text/plain": [
       "<Figure size 576x36 with 1 Axes>"
      ]
     },
     "metadata": {
      "needs_background": "light"
     },
     "output_type": "display_data"
    },
    {
     "data": {
      "image/png": "[encoded data removed]",
      "text/plain": [
       "<Figure size 576x36 with 1 Axes>"
      ]
     },
     "metadata": {
      "needs_background": "light"
     },
     "output_type": "display_data"
    },
    {
     "data": {
      "image/png": "[encoded data removed]",
      "text/plain": [
       "<Figure size 576x36 with 1 Axes>"
      ]
     },
     "metadata": {
      "needs_background": "light"
     },
     "output_type": "display_data"
    },
    {
     "data": {
      "image/png": "[encoded data removed]",
      "text/plain": [
       "<Figure size 576x36 with 1 Axes>"
      ]
     },
     "metadata": {
      "needs_background": "light"
     },
     "output_type": "display_data"
    },
    {
     "data": {
      "image/png": "[encoded data removed]",
      "text/plain": [
       "<Figure size 576x36 with 1 Axes>"
      ]
     },
     "metadata": {
      "needs_background": "light"
     },
     "output_type": "display_data"
    },
    {
     "data": {
      "image/png": "[encoded data removed]",
      "text/plain": [
       "<Figure size 576x36 with 1 Axes>"
      ]
     },
     "metadata": {
      "needs_background": "light"
     },
     "output_type": "display_data"
    },
    {
     "data": {
      "image/png": "[encoded data removed]",
      "text/plain": [
       "<Figure size 576x36 with 1 Axes>"
      ]
     },
     "metadata": {
      "needs_background": "light"
     },
     "output_type": "display_data"
    },
    {
     "data": {
      "image/png": "[encoded data removed]",
      "text/plain": [
       "<Figure size 576x36 with 1 Axes>"
      ]
     },
     "metadata": {
      "needs_background": "light"
     },
     "output_type": "display_data"
    },
    {
     "data": {
      "image/png": "[encoded data removed]",
      "text/plain": [
       "<Figure size 576x36 with 1 Axes>"
      ]
     },
     "metadata": {
      "needs_background": "light"
     },
     "output_type": "display_data"
    },
    {
     "data": {
      "image/png": "[encoded data removed]",
      "text/plain": [
       "<Figure size 576x36 with 1 Axes>"
      ]
     },
     "metadata": {
      "needs_background": "light"
     },
     "output_type": "display_data"
    },
    {
     "data": {
      "image/png": "[encoded data removed]",
      "text/plain": [
       "<Figure size 576x36 with 1 Axes>"
      ]
     },
     "metadata": {
      "needs_background": "light"
     },
     "output_type": "display_data"
    }
   ],
   "source": [
    "#visualize the effect of categorical features on predicting the outcome\n",
    "\n",
    "for column in ['sex.factor',  'hypoxia_ed.factor', 'smoke_vape',\n",
    "       'dm.factor', 'htn.factor', 'pulm___1.factor', 'renal___1.factor',\n",
    "       'renal___2.factor', 'cad.factor', 'cancer', 'any_immunosuppression',\n",
    "       'symptoms___1.factor', 'symptoms___2.factor', 'symptoms___10.factor',\n",
    "       'symptoms___9.factor', 'symptoms___8.factor', 'symptoms___3.factor',\n",
    "       'first_cxr_results___0.factor', 'first_cxr_results___1.factor',\n",
    "       'first_cxr_results___2.factor', 'first_cxr_results___3.factor', 'Ed_before_order_set']:\n",
    "    g=sns.catplot(y=\"event\", hue=column, kind=\"count\",\n",
    "            palette=\"pastel\", edgecolor=\".6\",\n",
    "            data=baselines)\n",
    "    g.fig.set_figwidth(8)\n",
    "    g.fig.set_figheight(0.5)"
   ]
  },
  {
   "cell_type": "markdown",
   "metadata": {},
   "source": [
    "<p style=\"color:blue\">From these graphs, we can say that the categorical features don't seem to have a lot of effect in predicting the outcome. However, a combination of these variables might influence the outcome, for e.g. the same person having multiple symptoms.</p>"
   ]
  },
  {
   "cell_type": "code",
   "execution_count": 20,
   "metadata": {},
   "outputs": [
    {
     "data": {
      "image/png": "[encoded data removed]",
      "text/plain": [
       "<Figure size 288x288 with 1 Axes>"
      ]
     },
     "metadata": {
      "needs_background": "light"
     },
     "output_type": "display_data"
    },
    {
     "data": {
      "image/png": "[encoded data removed]",
      "text/plain": [
       "<Figure size 288x288 with 1 Axes>"
      ]
     },
     "metadata": {
      "needs_background": "light"
     },
     "output_type": "display_data"
    },
    {
     "data": {
      "image/png": "[encoded data removed]",
      "text/plain": [
       "<Figure size 288x288 with 1 Axes>"
      ]
     },
     "metadata": {
      "needs_background": "light"
     },
     "output_type": "display_data"
    },
    {
     "data": {
      "image/png": "[encoded data removed]",
      "text/plain": [
       "<Figure size 288x288 with 1 Axes>"
      ]
     },
     "metadata": {
      "needs_background": "light"
     },
     "output_type": "display_data"
    },
    {
     "data": {
      "image/png": "[encoded data removed]",
      "text/plain": [
       "<Figure size 288x288 with 1 Axes>"
      ]
     },
     "metadata": {
      "needs_background": "light"
     },
     "output_type": "display_data"
    },
    {
     "data": {
      "image/png": "[encoded data removed]",
      "text/plain": [
       "<Figure size 288x288 with 1 Axes>"
      ]
     },
     "metadata": {
      "needs_background": "light"
     },
     "output_type": "display_data"
    },
    {
     "data": {
      "image/png": "[encoded data removed]",
      "text/plain": [
       "<Figure size 288x288 with 1 Axes>"
      ]
     },
     "metadata": {
      "needs_background": "light"
     },
     "output_type": "display_data"
    },
    {
     "data": {
      "image/png": "[encoded data removed]",
      "text/plain": [
       "<Figure size 288x288 with 1 Axes>"
      ]
     },
     "metadata": {
      "needs_background": "light"
     },
     "output_type": "display_data"
    }
   ],
   "source": [
    "for column in ['Age','bmi', 'duration_symptoms','s_bp_noninvasive (d)', 'vs_bp_noninvasive (s)', 'vs_hr_hr',\n",
    "               'xp_resp_rate_pt', 'xp_resp_spo2']:\n",
    "    g=sns.catplot(x=\"event\", y=column, kind=\"box\", data=baselines)\n",
    "    g.fig.set_figwidth(4)\n",
    "    g.fig.set_figheight(4)"
   ]
  },
  {
   "cell_type": "markdown",
   "metadata": {},
   "source": [
    "<p style=\"color:blue\">Again, it looks like even the numerical features don't have a lot of influence in predicting the outcome. \n",
    "Hence, we cannot visually remove insignificant features just on observation as none of the features have evident higher influence that all others.</p>\n",
    "\n",
    "<p style=\"color:blue\">We will now move on to the next step, i.e. preprocessing our data for learning</p>"
   ]
  },
  {
   "cell_type": "markdown",
   "metadata": {},
   "source": [
    "<h3>One hot Encoding, Normalization and Principal Component Analysis</h3>"
   ]
  },
  {
   "cell_type": "code",
   "execution_count": 21,
   "metadata": {},
   "outputs": [],
   "source": [
    "#one-hot encode the categorical features in baselines_X\n",
    "\n",
    "baselines_X=pd.get_dummies(baselines_X)"
   ]
  },
  {
   "cell_type": "code",
   "execution_count": 22,
   "metadata": {},
   "outputs": [],
   "source": [
    "#normaliza the data in baselines_X\n",
    "\n",
    "scaler=StandardScaler()\n",
    "baselines_X=scaler.fit_transform(baselines_X)"
   ]
  },
  {
   "cell_type": "markdown",
   "metadata": {},
   "source": [
    "<p style=\"color:blue\">We now use PCA to extract the most important features (Principal Components) , which captures the maximum cumulative explained variance ratio.</p>"
   ]
  },
  {
   "cell_type": "code",
   "execution_count": 23,
   "metadata": {},
   "outputs": [],
   "source": [
    "#calculate the cumulative explained variance ratio of different number of principal components\n",
    "\n",
    "pca=PCA(random_state=42)\n",
    "pca.fit_transform(baselines_X,baselines_y)\n",
    "cumulative=np.cumsum(pca.explained_variance_ratio_)"
   ]
  },
  {
   "cell_type": "code",
   "execution_count": 24,
   "metadata": {},
   "outputs": [
    {
     "data": {
      "text/plain": [
       "array([0.04739718, 0.09340393, 0.13799666, 0.18169951, 0.22379454,\n",
       "       0.26461463, 0.3049736 , 0.34504624, 0.38474029, 0.42421959,\n",
       "       0.4622689 , 0.49944121, 0.53603448, 0.57185156, 0.60741733,\n",
       "       0.64227947, 0.67683622, 0.7100537 , 0.74259611, 0.77468211,\n",
       "       0.8057432 , 0.83570137, 0.8566646 , 0.87646693, 0.89581675,\n",
       "       0.91426626, 0.93255626, 0.94982924, 0.96691442, 0.98374011,\n",
       "       1.        , 1.        , 1.        , 1.        , 1.        ,\n",
       "       1.        , 1.        , 1.        , 1.        , 1.        ,\n",
       "       1.        , 1.        , 1.        , 1.        , 1.        ,\n",
       "       1.        , 1.        , 1.        , 1.        , 1.        ,\n",
       "       1.        , 1.        , 1.        ])"
      ]
     },
     "execution_count": 24,
     "metadata": {},
     "output_type": "execute_result"
    }
   ],
   "source": [
    "#view the cumulative explained variance ratio of the 52 principal components\n",
    "\n",
    "cumulative"
   ]
  },
  {
   "cell_type": "markdown",
   "metadata": {},
   "source": [
    "<p style=\"color:blue\">We see that after the first 30 principal components capture the entire cumulative variance ratio. Hence, the number of principal components to be taken is 30.</p>"
   ]
  },
  {
   "cell_type": "code",
   "execution_count": 25,
   "metadata": {},
   "outputs": [
    {
     "data": {
      "image/png": "[encoded data removed]",
      "text/plain": [
       "<Figure size 720x432 with 1 Axes>"
      ]
     },
     "metadata": {
      "needs_background": "light"
     },
     "output_type": "display_data"
    }
   ],
   "source": [
    "# Visualizing the relevant number of features; graph of number of principal components vs cumulative variance ratio\n",
    "\n",
    "fig = plt.figure(figsize=[10,6])\n",
    "plt.vlines(x=30, ymax=1, ymin=0, colors=\"g\", linestyles=\"--\")\n",
    "sns.lineplot(y=cumulative,x=range(len(cumulative)))\n",
    "plt.yticks(np.arange(0, 1.1, 0.1))\n",
    "plt.show()"
   ]
  },
  {
   "cell_type": "code",
   "execution_count": 26,
   "metadata": {},
   "outputs": [],
   "source": [
    "#perform PCA with 30 principal components\n",
    "\n",
    "pca=IncrementalPCA(n_components=30)\n",
    "baselines_X_pca=pca.fit_transform(baselines_X)"
   ]
  },
  {
   "cell_type": "markdown",
   "metadata": {},
   "source": [
    "<p style=\"color:blue\">We have finished data cleaning and feature engineering. We now will train models to achieve maximum accuracy with different ML classifiers.</p>"
   ]
  },
  {
   "cell_type": "markdown",
   "metadata": {},
   "source": [
    "<h3>Machine Learning Models Analysis</h3>"
   ]
  },
  {
   "cell_type": "code",
   "execution_count": 27,
   "metadata": {},
   "outputs": [],
   "source": [
    "#Test-Train split for training and calculation accuracy\n",
    "\n",
    "X_train, X_test, y_train, y_test = train_test_split(baselines_X_pca, baselines_y, test_size=0.8, random_state=42)"
   ]
  },
  {
   "cell_type": "code",
   "execution_count": 28,
   "metadata": {},
   "outputs": [],
   "source": [
    "Classifiers=[]\n",
    "Accuracies=[]"
   ]
  },
  {
   "cell_type": "code",
   "execution_count": 29,
   "metadata": {},
   "outputs": [
    {
     "name": "stdout",
     "output_type": "stream",
     "text": [
      "Logistic Regression Classifier gives an accuracy score of 0.8076208178438662\n",
      "Random Forest Classifier gives an accuracy score of  0.7481412639405205\n",
      "SVM Classifier  Polynomial  kernel gives an accuracy score of  0.5353159851301115\n",
      "SVM Classifier  RBF  kernel gives an accuracy score of  0.6877323420074349\n",
      "SVM Classifier  Sigmoid  kernel gives an accuracy score of  0.7788104089219331\n",
      "SVM Classifier  Linear  kernel gives an accuracy score of  0.8039033457249071\n",
      "Decision Tree Classifier gives an accuracy score of  0.662639405204461\n",
      "K Nearest Neighbours Classifier gives an accuracy score of  0.6840148698884758\n",
      "Linear Discriminant Analysis gives an accuracy score of  0.8020446096654275\n",
      "Gaussian Naive Bayes Classifier gives an accuracy score of  0.7072490706319703\n",
      "Multi layer perceptron Classifier gives an accuracy score of  0.7713754646840149\n",
      "Gaussian Process Classifier gives an accuracy score of  0.800185873605948\n",
      "Adaboost Classifier gives an accuracy score of  0.70817843866171\n",
      "Quadratic Discriminant Analysis gives an accuracy score of  0.6775092936802974\n",
      "[22:16:58] WARNING: C:/Users/Administrator/workspace/xgboost-win64_release_1.3.0/src/learner.cc:1061: Starting in XGBoost 1.3.0, the default evaluation metric used with the objective 'binary:logistic' was changed from 'error' to 'logloss'. Explicitly set eval_metric if you'd like to restore the old behavior.\n",
      "XG Boost Classifier gives an accuracy score of  0.7481412639405205\n",
      "Gradient Boosting Classifier gives an accuracy score of  0.7490706319702602\n"
     ]
    }
   ],
   "source": [
    "#Logistic Regression Classifier\n",
    "\n",
    "clf = LogisticRegression(random_state=0).fit(X_train, y_train)\n",
    "y_pred=clf.predict(X_test)\n",
    "print(\"Logistic Regression Classifier gives an accuracy score of\",accuracy_score(y_test, y_pred))\n",
    "Classifiers.append(\"Logistic Regression Classifier\")\n",
    "Accuracies.append(accuracy_score(y_test, y_pred))\n",
    "\n",
    "#Random Forest Classifier\n",
    "\n",
    "clf=RandomForestClassifier(n_estimators=50000)\n",
    "clf.fit(X_train, y_train)\n",
    "y_pred = clf.predict(X_test)\n",
    "print(\"Random Forest Classifier gives an accuracy score of \",accuracy_score(y_test, y_pred))\n",
    "Classifiers.append(\"Random Forest Classifier\")\n",
    "Accuracies.append(accuracy_score(y_test, y_pred))\n",
    "\n",
    "#SVM Classifier \n",
    "#A function that gives different kernels of the SVM classifier\n",
    "\n",
    "kernels = ['Polynomial', 'RBF', 'Sigmoid','Linear']\n",
    "def getClassifier(ktype):\n",
    "    if ktype == 0:\n",
    "        # Polynomial kernal\n",
    "        return SVC(kernel='poly', degree=8, gamma=\"auto\")\n",
    "    elif ktype == 1:\n",
    "        # Radial Basis Function kernal\n",
    "        return SVC(kernel='rbf', gamma=\"auto\")\n",
    "    elif ktype == 2:\n",
    "        # Sigmoid kernal\n",
    "        return SVC(kernel='sigmoid', gamma=\"auto\")\n",
    "    elif ktype == 3:\n",
    "        # Linear kernal\n",
    "        return SVC(kernel='linear', gamma=\"auto\")\n",
    "    \n",
    "#SVM Classifier\n",
    "\n",
    "for i in range(4):\n",
    "    svclassifier = getClassifier(i) \n",
    "    svclassifier.fit(X_train, y_train)# Make prediction\n",
    "    y_pred = svclassifier.predict(X_test)# Evaluate our model\n",
    "    print(\"SVM Classifier \",kernels[i],\" kernel gives an accuracy score of \",accuracy_score(y_test, y_pred))\n",
    "    Classifiers.append(\"SVM Classifier \"+kernels[i]+\" kernel\")\n",
    "    Accuracies.append(accuracy_score(y_test, y_pred))\n",
    "    \n",
    "#Decision Tree Classifier\n",
    "\n",
    "clf = DecisionTreeClassifier(random_state=0)\n",
    "clf.fit(X_train, y_train)\n",
    "y_pred = clf.predict(X_test)\n",
    "print(\"Decision Tree Classifier gives an accuracy score of \",accuracy_score(y_test, y_pred))\n",
    "Classifiers.append(\"Decision Tree Classifier\")\n",
    "Accuracies.append(accuracy_score(y_test, y_pred))\n",
    "\n",
    "#K Nearest Neighbours Classifier\n",
    "\n",
    "neigh = KNeighborsClassifier(n_neighbors=91)\n",
    "neigh.fit(X_train, y_train)\n",
    "y_pred = neigh.predict(X_test)\n",
    "print(\"K Nearest Neighbours Classifier gives an accuracy score of \",accuracy_score(y_test, y_pred))\n",
    "Classifiers.append(\"KNN Classifier\")\n",
    "Accuracies.append(accuracy_score(y_test, y_pred))\n",
    "\n",
    "#Linear Discriminant Analysis\n",
    "\n",
    "clf = LinearDiscriminantAnalysis()\n",
    "clf.fit(X_train, y_train)\n",
    "y_pred = clf.predict(X_test)\n",
    "print(\"Linear Discriminant Analysis gives an accuracy score of \",accuracy_score(y_test, y_pred))\n",
    "Classifiers.append(\"Linear Discriminant Analysis Classifier\")\n",
    "Accuracies.append(accuracy_score(y_test, y_pred))\n",
    "\n",
    "#Gaussian Naive Bayes Classifier \n",
    "\n",
    "gnb = GaussianNB()\n",
    "y_pred = gnb.fit(X_train, y_train).predict(X_test)\n",
    "print(\"Gaussian Naive Bayes Classifier gives an accuracy score of \",accuracy_score(y_test, y_pred))\n",
    "Classifiers.append(\"Gaussian Naive Bayes Classifier\")\n",
    "Accuracies.append(accuracy_score(y_test, y_pred))\n",
    "\n",
    "#Multi layer perceptron Classifier\n",
    "\n",
    "clf = MLPClassifier(solver='lbfgs', alpha=1e-5,hidden_layer_sizes=(5000, 2), random_state=1)\n",
    "clf.fit(X_train, y_train)\n",
    "y_pred = clf.predict(X_test)\n",
    "print(\"Multi layer perceptron Classifier gives an accuracy score of \",accuracy_score(y_test, y_pred))\n",
    "Classifiers.append(\"Multi layer perceptron Classifier\")\n",
    "Accuracies.append(accuracy_score(y_test, y_pred))\n",
    "\n",
    "#Gaussian Process Classifier\n",
    "\n",
    "kernel = 1.0 * RBF(1.0)\n",
    "gpc = GaussianProcessClassifier(kernel=kernel, random_state=0)\n",
    "gpc.fit(X_train, y_train)\n",
    "y_pred = gpc.predict(X_test)\n",
    "print(\"Gaussian Process Classifier gives an accuracy score of \",accuracy_score(y_test, y_pred))\n",
    "Classifiers.append(\"Gaussian Process Classifier\")\n",
    "Accuracies.append(accuracy_score(y_test, y_pred))\n",
    "\n",
    "#Adaboost Classifier \n",
    "\n",
    "clf = AdaBoostClassifier(n_estimators=100, random_state=0)\n",
    "clf.fit(X_train, y_train)\n",
    "y_pred = clf.predict(X_test)\n",
    "print(\"Adaboost Classifier gives an accuracy score of \",accuracy_score(y_test, y_pred))\n",
    "Classifiers.append(\"Adaboost Classifier\")\n",
    "Accuracies.append(accuracy_score(y_test, y_pred))\n",
    "\n",
    "#Quadratic Discriminant Analysis Classifier\n",
    "\n",
    "clf = QuadraticDiscriminantAnalysis()\n",
    "clf.fit(X_train, y_train)\n",
    "y_pred = clf.predict(X_test)\n",
    "print(\"Quadratic Discriminant Analysis gives an accuracy score of \",accuracy_score(y_test, y_pred))\n",
    "Classifiers.append(\"Quadratic Discriminant Analysis Classifier\")\n",
    "Accuracies.append(accuracy_score(y_test, y_pred))\n",
    "\n",
    "#XG Boost Classifier\n",
    "\n",
    "model = XGBClassifier()\n",
    "model.fit(X_train,y_train)\n",
    "y_pred = model.predict(X_test)\n",
    "accuracy_score(y_test, y_pred)\n",
    "print(\"XG Boost Classifier gives an accuracy score of \",accuracy_score(y_test, y_pred))\n",
    "Classifiers.append(\"XG Boost Classifier\")\n",
    "Accuracies.append(accuracy_score(y_test, y_pred))\n",
    "\n",
    "#Gradient Boosting Classifier\n",
    "\n",
    "clf = GradientBoostingClassifier(n_estimators=100, learning_rate=1.0,max_depth=1, random_state=0).fit(X_train, y_train)\n",
    "y_pred = clf.predict(X_test)\n",
    "print(\"Gradient Boosting Classifier gives an accuracy score of \",accuracy_score(y_test, y_pred))\n",
    "Classifiers.append(\"Gradient Boosting Classifier\")\n",
    "Accuracies.append(accuracy_score(y_test, y_pred))"
   ]
  },
  {
   "cell_type": "code",
   "execution_count": 30,
   "metadata": {},
   "outputs": [
    {
     "data": {
      "text/html": [
       "<div>\n",
       "<style scoped>\n",
       "    .dataframe tbody tr th:only-of-type {\n",
       "        vertical-align: middle;\n",
       "    }\n",
       "\n",
       "    .dataframe tbody tr th {\n",
       "        vertical-align: top;\n",
       "    }\n",
       "\n",
       "    .dataframe thead th {\n",
       "        text-align: right;\n",
       "    }\n",
       "</style>\n",
       "<table border=\"1\" class=\"dataframe\">\n",
       "  <thead>\n",
       "    <tr style=\"text-align: right;\">\n",
       "      <th></th>\n",
       "      <th>Classifiers</th>\n",
       "      <th>Accuracies</th>\n",
       "    </tr>\n",
       "  </thead>\n",
       "  <tbody>\n",
       "    <tr>\n",
       "      <th>0</th>\n",
       "      <td>Logistic Regression Classifier</td>\n",
       "      <td>0.807621</td>\n",
       "    </tr>\n",
       "    <tr>\n",
       "      <th>1</th>\n",
       "      <td>Random Forest Classifier</td>\n",
       "      <td>0.748141</td>\n",
       "    </tr>\n",
       "    <tr>\n",
       "      <th>2</th>\n",
       "      <td>SVM Classifier Polynomial kernel</td>\n",
       "      <td>0.535316</td>\n",
       "    </tr>\n",
       "    <tr>\n",
       "      <th>3</th>\n",
       "      <td>SVM Classifier RBF kernel</td>\n",
       "      <td>0.687732</td>\n",
       "    </tr>\n",
       "    <tr>\n",
       "      <th>4</th>\n",
       "      <td>SVM Classifier Sigmoid kernel</td>\n",
       "      <td>0.778810</td>\n",
       "    </tr>\n",
       "    <tr>\n",
       "      <th>5</th>\n",
       "      <td>SVM Classifier Linear kernel</td>\n",
       "      <td>0.803903</td>\n",
       "    </tr>\n",
       "    <tr>\n",
       "      <th>6</th>\n",
       "      <td>Decision Tree Classifier</td>\n",
       "      <td>0.662639</td>\n",
       "    </tr>\n",
       "    <tr>\n",
       "      <th>7</th>\n",
       "      <td>KNN Classifier</td>\n",
       "      <td>0.684015</td>\n",
       "    </tr>\n",
       "    <tr>\n",
       "      <th>8</th>\n",
       "      <td>Linear Discriminant Analysis Classifier</td>\n",
       "      <td>0.802045</td>\n",
       "    </tr>\n",
       "    <tr>\n",
       "      <th>9</th>\n",
       "      <td>Gaussian Naive Bayes Classifier</td>\n",
       "      <td>0.707249</td>\n",
       "    </tr>\n",
       "    <tr>\n",
       "      <th>10</th>\n",
       "      <td>Multi layer perceptron Classifier</td>\n",
       "      <td>0.771375</td>\n",
       "    </tr>\n",
       "    <tr>\n",
       "      <th>11</th>\n",
       "      <td>Gaussian Process Classifier</td>\n",
       "      <td>0.800186</td>\n",
       "    </tr>\n",
       "    <tr>\n",
       "      <th>12</th>\n",
       "      <td>Adaboost Classifier</td>\n",
       "      <td>0.708178</td>\n",
       "    </tr>\n",
       "    <tr>\n",
       "      <th>13</th>\n",
       "      <td>Quadratic Discriminant Analysis Classifier</td>\n",
       "      <td>0.677509</td>\n",
       "    </tr>\n",
       "    <tr>\n",
       "      <th>14</th>\n",
       "      <td>XG Boost Classifier</td>\n",
       "      <td>0.748141</td>\n",
       "    </tr>\n",
       "    <tr>\n",
       "      <th>15</th>\n",
       "      <td>Gradient Boosting Classifier</td>\n",
       "      <td>0.749071</td>\n",
       "    </tr>\n",
       "  </tbody>\n",
       "</table>\n",
       "</div>"
      ],
      "text/plain": [
       "                                   Classifiers  Accuracies\n",
       "0               Logistic Regression Classifier    0.807621\n",
       "1                     Random Forest Classifier    0.748141\n",
       "2             SVM Classifier Polynomial kernel    0.535316\n",
       "3                    SVM Classifier RBF kernel    0.687732\n",
       "4                SVM Classifier Sigmoid kernel    0.778810\n",
       "5                 SVM Classifier Linear kernel    0.803903\n",
       "6                     Decision Tree Classifier    0.662639\n",
       "7                               KNN Classifier    0.684015\n",
       "8      Linear Discriminant Analysis Classifier    0.802045\n",
       "9              Gaussian Naive Bayes Classifier    0.707249\n",
       "10           Multi layer perceptron Classifier    0.771375\n",
       "11                 Gaussian Process Classifier    0.800186\n",
       "12                         Adaboost Classifier    0.708178\n",
       "13  Quadratic Discriminant Analysis Classifier    0.677509\n",
       "14                         XG Boost Classifier    0.748141\n",
       "15                Gradient Boosting Classifier    0.749071"
      ]
     },
     "execution_count": 30,
     "metadata": {},
     "output_type": "execute_result"
    }
   ],
   "source": [
    "#Store all the accuracies data in a pandas dataframe\n",
    "\n",
    "Classifiers_and_Accuracies=pd.DataFrame()\n",
    "Classifiers_and_Accuracies[\"Classifiers\"]=Classifiers\n",
    "Classifiers_and_Accuracies[\"Accuracies\"]=Accuracies\n",
    "Classifiers_and_Accuracies"
   ]
  },
  {
   "cell_type": "markdown",
   "metadata": {},
   "source": [
    "<p style=\"color:blue\">Hence, we see that the Logisitic Regression Classifier gives the maximum Accuracy. </p>"
   ]
  },
  {
   "cell_type": "code",
   "execution_count": 31,
   "metadata": {},
   "outputs": [
    {
     "data": {
      "text/html": [
       "<div>\n",
       "<style scoped>\n",
       "    .dataframe tbody tr th:only-of-type {\n",
       "        vertical-align: middle;\n",
       "    }\n",
       "\n",
       "    .dataframe tbody tr th {\n",
       "        vertical-align: top;\n",
       "    }\n",
       "\n",
       "    .dataframe thead th {\n",
       "        text-align: right;\n",
       "    }\n",
       "</style>\n",
       "<table border=\"1\" class=\"dataframe\">\n",
       "  <thead>\n",
       "    <tr style=\"text-align: right;\">\n",
       "      <th></th>\n",
       "      <th>Classifiers</th>\n",
       "      <th>Accuracies</th>\n",
       "    </tr>\n",
       "  </thead>\n",
       "  <tbody>\n",
       "    <tr>\n",
       "      <th>0</th>\n",
       "      <td>Logistic Regression Classifier</td>\n",
       "      <td>0.807621</td>\n",
       "    </tr>\n",
       "    <tr>\n",
       "      <th>5</th>\n",
       "      <td>SVM Classifier Linear kernel</td>\n",
       "      <td>0.803903</td>\n",
       "    </tr>\n",
       "    <tr>\n",
       "      <th>8</th>\n",
       "      <td>Linear Discriminant Analysis Classifier</td>\n",
       "      <td>0.802045</td>\n",
       "    </tr>\n",
       "    <tr>\n",
       "      <th>11</th>\n",
       "      <td>Gaussian Process Classifier</td>\n",
       "      <td>0.800186</td>\n",
       "    </tr>\n",
       "  </tbody>\n",
       "</table>\n",
       "</div>"
      ],
      "text/plain": [
       "                                Classifiers  Accuracies\n",
       "0            Logistic Regression Classifier    0.807621\n",
       "5              SVM Classifier Linear kernel    0.803903\n",
       "8   Linear Discriminant Analysis Classifier    0.802045\n",
       "11              Gaussian Process Classifier    0.800186"
      ]
     },
     "execution_count": 31,
     "metadata": {},
     "output_type": "execute_result"
    }
   ],
   "source": [
    "#Visualize the classifiers that give >0.8 accuracy\n",
    "\n",
    "Classifiers_and_Accuracies.loc[Classifiers_and_Accuracies[\"Accuracies\"]>0.8]"
   ]
  },
  {
   "cell_type": "markdown",
   "metadata": {},
   "source": [
    "<p style=\"color:blue\">Hence, Logitic Regression performs the best on our data. Now, we tune the hyperparameters of logisitic regression to try and achieve higher accuracy</p>\n"
   ]
  },
  {
   "cell_type": "markdown",
   "metadata": {},
   "source": [
    "<h3>Hyperparameter Tuning</h3>"
   ]
  },
  {
   "cell_type": "code",
   "execution_count": 32,
   "metadata": {},
   "outputs": [
    {
     "name": "stdout",
     "output_type": "stream",
     "text": [
      "Fitting 3 folds for each of 30 candidates, totalling 90 fits\n"
     ]
    },
    {
     "name": "stderr",
     "output_type": "stream",
     "text": [
      "[Parallel(n_jobs=1)]: Using backend SequentialBackend with 1 concurrent workers.\n",
      "[Parallel(n_jobs=1)]: Done  90 out of  90 | elapsed:    1.8s finished\n"
     ]
    },
    {
     "data": {
      "text/plain": [
       "GridSearchCV(cv=KFold(n_splits=3, random_state=42, shuffle=True),\n",
       "             error_score=nan,\n",
       "             estimator=LogisticRegression(C=1.0, class_weight=None, dual=False,\n",
       "                                          fit_intercept=True,\n",
       "                                          intercept_scaling=1, l1_ratio=None,\n",
       "                                          max_iter=100, multi_class='auto',\n",
       "                                          n_jobs=None, penalty='l2',\n",
       "                                          random_state=None, solver='lbfgs',\n",
       "                                          tol=0.0001, verbose=0,\n",
       "                                          warm_start=False),\n",
       "             iid='deprecated', n_jobs=None,\n",
       "             param_grid={'C': [0.01, 0.1, 1, 5, 10, 100],\n",
       "                         'solver': ['lbfgs', 'sag', 'saga', 'newton-cg',\n",
       "                                    'liblinear']},\n",
       "             pre_dispatch='2*n_jobs', refit=True, return_train_score=True,\n",
       "             scoring='accuracy', verbose=1)"
      ]
     },
     "execution_count": 32,
     "metadata": {},
     "output_type": "execute_result"
    }
   ],
   "source": [
    "#Logistic Regression Hyperparameter Tuning\n",
    "\n",
    "folds=KFold(n_splits=3,shuffle=True,random_state=42)\n",
    "params = {\"solver\": ['lbfgs', 'sag','saga','newton-cg','liblinear' ],\"C\" : [0.01,0.1,1,5,10,100]}\n",
    "model = LogisticRegression()\n",
    "model_cv = GridSearchCV(estimator = model, param_grid = params, scoring= 'accuracy', \n",
    "                     cv = folds, verbose = 1, return_train_score=True)   \n",
    "model_cv.fit(X_train, y_train)  "
   ]
  },
  {
   "cell_type": "code",
   "execution_count": 33,
   "metadata": {},
   "outputs": [
    {
     "name": "stdout",
     "output_type": "stream",
     "text": [
      "best_C=  1\n",
      "best_solver=  lbfgs\n"
     ]
    }
   ],
   "source": [
    "#viewing the best parameters\n",
    "\n",
    "best_C = model_cv.best_params_['C']\n",
    "best_solver = model_cv.best_params_['solver']\n",
    "print(\"best_C= \",best_C)\n",
    "print(\"best_solver= \",best_solver)"
   ]
  },
  {
   "cell_type": "code",
   "execution_count": 34,
   "metadata": {},
   "outputs": [
    {
     "data": {
      "text/plain": [
       "0.8076208178438662"
      ]
     },
     "execution_count": 34,
     "metadata": {},
     "output_type": "execute_result"
    }
   ],
   "source": [
    "#Accuracy with the tuned Logistic Regression model\n",
    "\n",
    "y_pred=model_cv.predict(X_test)\n",
    "accuracy_score(y_test, y_pred)"
   ]
  },
  {
   "cell_type": "markdown",
   "metadata": {},
   "source": [
    "<p style=\"color:blue\">We see that after hyperparameter tuning the maximum accuracy obtained is 80.76% for the test data.</p>"
   ]
  },
  {
   "cell_type": "markdown",
   "metadata": {},
   "source": [
    "<p style=\"color:blue\">We now try a bagging classifier with Logistic Regression as the base estimator to further improve accuracy.</p>"
   ]
  },
  {
   "cell_type": "markdown",
   "metadata": {},
   "source": [
    "<h3>Bagging</h3>"
   ]
  },
  {
   "cell_type": "code",
   "execution_count": 35,
   "metadata": {},
   "outputs": [
    {
     "name": "stdout",
     "output_type": "stream",
     "text": [
      "BaggingClassifier gives an accuracy score of  0.8085501858736059\n"
     ]
    }
   ],
   "source": [
    "#Bagging Classifier\n",
    "\n",
    "clf = BaggingClassifier(base_estimator=LogisticRegression(),n_estimators=10000, random_state=0).fit(X_train, y_train)\n",
    "y_pred = clf.predict(X_test)\n",
    "accuracy_score(y_test, y_pred)\n",
    "print(\"BaggingClassifier gives an accuracy score of \",accuracy_score(y_test, y_pred))\n",
    "Classifiers.append(\"Bagging Classifier\")\n",
    "Accuracies.append(accuracy_score(y_test, y_pred))"
   ]
  },
  {
   "cell_type": "markdown",
   "metadata": {},
   "source": [
    "<p style=\"color:blue\">We see that bagging has improved the accuracy of logistic regression.</p>"
   ]
  },
  {
   "cell_type": "code",
   "execution_count": 36,
   "metadata": {},
   "outputs": [
    {
     "data": {
      "text/plain": [
       "0.8118959107806691"
      ]
     },
     "execution_count": 36,
     "metadata": {},
     "output_type": "execute_result"
    }
   ],
   "source": [
    "#prediction on the entire baselines dataset using the bagging model\n",
    "\n",
    "y_pred=clf.predict(baselines_X_pca)\n",
    "accuracy_score(baselines_y, y_pred)"
   ]
  },
  {
   "cell_type": "markdown",
   "metadata": {},
   "source": [
    "<h3>Conclusion</h3>"
   ]
  },
  {
   "cell_type": "markdown",
   "metadata": {},
   "source": [
    "<p style=\"color:blue\">Hence, Tuned and bagged Logistic Regression best predicts our data with the model fitting 81.19% of the entire baselines dataset provided correctly</p>"
   ]
  }
 ],
 "metadata": {
  "kernelspec": {
   "display_name": "Python 3",
   "language": "python",
   "name": "python3"
  },
  "language_info": {
   "codemirror_mode": {
    "name": "ipython",
    "version": 3
   },
   "file_extension": ".py",
   "mimetype": "text/x-python",
   "name": "python",
   "nbconvert_exporter": "python",
   "pygments_lexer": "ipython3",
   "version": "3.6.5"
  }
 },
 "nbformat": 4,
 "nbformat_minor": 4
}
